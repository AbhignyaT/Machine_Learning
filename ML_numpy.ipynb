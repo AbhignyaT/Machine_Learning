{
  "nbformat": 4,
  "nbformat_minor": 0,
  "metadata": {
    "colab": {
      "provenance": [],
      "authorship_tag": "ABX9TyN2DTgVL9G7Va9Quoi3gqZy",
      "include_colab_link": true
    },
    "kernelspec": {
      "name": "python3",
      "display_name": "Python 3"
    },
    "language_info": {
      "name": "python"
    }
  },
  "cells": [
    {
      "cell_type": "markdown",
      "metadata": {
        "id": "view-in-github",
        "colab_type": "text"
      },
      "source": [
        "<a href=\"https://colab.research.google.com/github/AbhignyaT/Machine_Learning/blob/main/ML_numpy.ipynb\" target=\"_parent\"><img src=\"https://colab.research.google.com/assets/colab-badge.svg\" alt=\"Open In Colab\"/></a>"
      ]
    },
    {
      "cell_type": "code",
      "execution_count": 1,
      "metadata": {
        "id": "j6U3TOKnyPpt"
      },
      "outputs": [],
      "source": [
        "import numpy as np"
      ]
    },
    {
      "cell_type": "code",
      "source": [
        "#1D Array\n",
        "arr=np.array([1,2,3,4,5])\n",
        "print(arr)\n",
        "print(arr.shape)\n",
        "print(arr.ndim)\n",
        "print(type(arr))"
      ],
      "metadata": {
        "colab": {
          "base_uri": "https://localhost:8080/"
        },
        "id": "7bnltEOHzxDp",
        "outputId": "146babca-aca3-41c1-f900-371375ae93f0"
      },
      "execution_count": 8,
      "outputs": [
        {
          "output_type": "stream",
          "name": "stdout",
          "text": [
            "[1 2 3 4 5]\n",
            "(5,)\n",
            "1\n",
            "<class 'numpy.ndarray'>\n"
          ]
        }
      ]
    },
    {
      "cell_type": "code",
      "source": [
        "#0D Array\n",
        "arr1=np.array(43)\n",
        "print(arr1)\n",
        "print(arr1.shape)\n",
        "print(arr1.ndim)"
      ],
      "metadata": {
        "colab": {
          "base_uri": "https://localhost:8080/"
        },
        "id": "9MQ6KStF19eN",
        "outputId": "bf0f4ce7-3f0b-4da1-92a1-352b0d4c666e"
      },
      "execution_count": 9,
      "outputs": [
        {
          "output_type": "stream",
          "name": "stdout",
          "text": [
            "43\n",
            "()\n",
            "0\n"
          ]
        }
      ]
    },
    {
      "cell_type": "code",
      "source": [
        "#2D array\n",
        "arr2=np.array([[1,2,3],[4,5,6]])\n",
        "print(arr2)\n",
        "print(arr2.shape)\n",
        "print(arr2.ndim)"
      ],
      "metadata": {
        "colab": {
          "base_uri": "https://localhost:8080/"
        },
        "id": "-Jv7h2Yw2WiA",
        "outputId": "a598dde7-4a41-4646-834f-dc2259ab5b86"
      },
      "execution_count": 10,
      "outputs": [
        {
          "output_type": "stream",
          "name": "stdout",
          "text": [
            "[[1 2 3]\n",
            " [4 5 6]]\n",
            "(2, 3)\n",
            "2\n"
          ]
        }
      ]
    },
    {
      "cell_type": "code",
      "source": [
        "#3D array\n",
        "arr3=np.array([[[1,2,1,2],[2,3,4,1]],[[2,4,5,1],[5,2,6,1]],[[2,6,1,7],[2,7,1,8]]])\n",
        "print(arr3)\n",
        "print(arr3.shape)\n",
        "print(arr3.ndim)"
      ],
      "metadata": {
        "colab": {
          "base_uri": "https://localhost:8080/"
        },
        "id": "sgW-CeWW209o",
        "outputId": "37d1598c-0283-4ba8-a360-67c1b2c0835f"
      },
      "execution_count": 16,
      "outputs": [
        {
          "output_type": "stream",
          "name": "stdout",
          "text": [
            "[[[1 2 1 2]\n",
            "  [2 3 4 1]]\n",
            "\n",
            " [[2 4 5 1]\n",
            "  [5 2 6 1]]\n",
            "\n",
            " [[2 6 1 7]\n",
            "  [2 7 1 8]]]\n",
            "(3, 2, 4)\n",
            "3\n"
          ]
        }
      ]
    },
    {
      "cell_type": "code",
      "source": [
        "#n-D array\n",
        "arr4=np.array([[1,2,3,4],[5,6,7,8]],ndmin=5)\n",
        "print(arr4)\n",
        "print('no of dim:',arr4.ndim)\n",
        "print(arr4.shape)"
      ],
      "metadata": {
        "colab": {
          "base_uri": "https://localhost:8080/"
        },
        "id": "L2DCr1IA4Ihl",
        "outputId": "ea129718-cc01-46bf-f780-6c3c0d1234b0"
      },
      "execution_count": 19,
      "outputs": [
        {
          "output_type": "stream",
          "name": "stdout",
          "text": [
            "[[[[[1 2 3 4]\n",
            "    [5 6 7 8]]]]]\n",
            "no of dim: 5\n",
            "(1, 1, 1, 2, 4)\n"
          ]
        }
      ]
    },
    {
      "cell_type": "code",
      "source": [
        "#Slicing arrays\n",
        "print(arr1,arr[0],arr2[0][1],arr3[1][1][2])\n",
        "\n",
        "print(arr1,arr[0],arr2[0,1],arr3[1,1,2])"
      ],
      "metadata": {
        "colab": {
          "base_uri": "https://localhost:8080/"
        },
        "id": "o3OLkPPg5GG1",
        "outputId": "273beb6b-50f9-4af8-d497-e08b3d0cdb44"
      },
      "execution_count": 22,
      "outputs": [
        {
          "output_type": "stream",
          "name": "stdout",
          "text": [
            "43 1 2 6\n",
            "43 1 2 6\n"
          ]
        }
      ]
    },
    {
      "cell_type": "code",
      "source": [
        "#Slicing arrays negative indexing\n",
        "print(arr2)\n",
        "#print(arr2[-2][-1])\n",
        "print(arr2[-2,-1])"
      ],
      "metadata": {
        "colab": {
          "base_uri": "https://localhost:8080/"
        },
        "id": "lbN2zTun6C3G",
        "outputId": "7dd1c3ee-69fb-49f5-d9d4-c7804e3fe7d9"
      },
      "execution_count": 24,
      "outputs": [
        {
          "output_type": "stream",
          "name": "stdout",
          "text": [
            "[[1 2 3]\n",
            " [4 5 6]]\n",
            "3\n",
            "3\n"
          ]
        }
      ]
    },
    {
      "cell_type": "code",
      "source": [
        "#Slicing 1D arr: [1,5]--> 1 to 4th index both included\n",
        "arr4=np.array([1,2,3,4,5,6,7])\n",
        "print(arr4[2:]) #from 2 to end\n",
        "print(arr4[:4]) #from start to 3rd index\n",
        "print(arr4[-5:-1])  #-5 to -1 forward direction, [-1:-5]-->output: []\n",
        "print(arr4[::2])  #alternatively"
      ],
      "metadata": {
        "colab": {
          "base_uri": "https://localhost:8080/"
        },
        "id": "eWm_YJAy6xSb",
        "outputId": "72f84695-255a-42fa-eacc-a3111e4af15b"
      },
      "execution_count": 27,
      "outputs": [
        {
          "output_type": "stream",
          "name": "stdout",
          "text": [
            "[3 4 5 6 7]\n",
            "[1 2 3 4]\n",
            "[3 4 5 6]\n",
            "[1 3 5 7]\n"
          ]
        }
      ]
    },
    {
      "cell_type": "code",
      "source": [
        "#Slicing 2D\n",
        "arr5=np.array([[1,2,3,4,5],[6,7,8,9,10]])\n",
        "arr5\n",
        "print(arr5[1,1:4])\n",
        "print(arr5[0:2,2])\n",
        "print(arr5[0:2, 1:4])"
      ],
      "metadata": {
        "colab": {
          "base_uri": "https://localhost:8080/"
        },
        "id": "hy9j_StK8C7n",
        "outputId": "6ddca1a4-9574-434d-fbfb-9a2dc4c94973"
      },
      "execution_count": 35,
      "outputs": [
        {
          "output_type": "stream",
          "name": "stdout",
          "text": [
            "[7 8 9]\n",
            "[3 8]\n",
            "[[2 3 4]\n",
            " [7 8 9]]\n"
          ]
        }
      ]
    },
    {
      "cell_type": "code",
      "source": [
        "print(arr5.dtype)"
      ],
      "metadata": {
        "colab": {
          "base_uri": "https://localhost:8080/"
        },
        "id": "qNgEanmR9BjY",
        "outputId": "e4bc7e71-9f22-4a8b-f435-bd16f558896d"
      },
      "execution_count": 36,
      "outputs": [
        {
          "output_type": "stream",
          "name": "stdout",
          "text": [
            "int64\n"
          ]
        }
      ]
    },
    {
      "cell_type": "code",
      "source": [
        "arr6=np.array(['apple','banana','cherry'])\n",
        "print(arr6.dtype) #gives the max length of the strings present"
      ],
      "metadata": {
        "colab": {
          "base_uri": "https://localhost:8080/"
        },
        "id": "X-M5nC7K9xNT",
        "outputId": "98145346-7a12-4d7b-b2b1-ff0d3d88966d"
      },
      "execution_count": 39,
      "outputs": [
        {
          "output_type": "stream",
          "name": "stdout",
          "text": [
            "<U6\n"
          ]
        }
      ]
    },
    {
      "cell_type": "code",
      "source": [
        "arr=np.array([1,2,3,4],dtype='S')\n",
        "print(arr)\n",
        "print(arr.dtype)"
      ],
      "metadata": {
        "colab": {
          "base_uri": "https://localhost:8080/"
        },
        "id": "NARVfpnd-Of2",
        "outputId": "841e377e-6e4c-4c86-c642-d3ae0bb8bfa5"
      },
      "execution_count": 40,
      "outputs": [
        {
          "output_type": "stream",
          "name": "stdout",
          "text": [
            "[b'1' b'2' b'3' b'4']\n",
            "|S1\n"
          ]
        }
      ]
    },
    {
      "cell_type": "code",
      "source": [
        "arr=np.array(['1','2','3'],dtype='i') #cannot convert if['a','2','3']\n",
        "print(arr)"
      ],
      "metadata": {
        "colab": {
          "base_uri": "https://localhost:8080/"
        },
        "id": "Jp1B_Zq2-izY",
        "outputId": "4d0a2278-9e94-4ecc-885b-20e869cf99b8"
      },
      "execution_count": 45,
      "outputs": [
        {
          "output_type": "stream",
          "name": "stdout",
          "text": [
            "[1 2 3]\n"
          ]
        }
      ]
    },
    {
      "cell_type": "code",
      "source": [
        "#coverting data type\n",
        "arr=np.array([3.45,2.141,4.15])\n",
        "newarr=arr.astype('i')\n",
        "print(newarr)\n",
        "print(newarr.dtype)\n",
        "print(arr.dtype)"
      ],
      "metadata": {
        "colab": {
          "base_uri": "https://localhost:8080/"
        },
        "id": "zYCgMWmW-7HB",
        "outputId": "0a4906cc-47d8-4028-eece-0d86f8869331"
      },
      "execution_count": 47,
      "outputs": [
        {
          "output_type": "stream",
          "name": "stdout",
          "text": [
            "[3 2 4]\n",
            "int32\n",
            "float64\n"
          ]
        }
      ]
    },
    {
      "cell_type": "code",
      "source": [
        "#Float to int by using \"int\"\n",
        "arr = np.array([1.1,2.1,3.1])\n",
        "newarr = arr.astype(int)\n",
        "print(newarr)\n",
        "print(newarr.dtype)"
      ],
      "metadata": {
        "colab": {
          "base_uri": "https://localhost:8080/"
        },
        "id": "l0rZSJbE_iNa",
        "outputId": "54cf1009-5cbf-43cc-d793-df1a3fc4b825"
      },
      "execution_count": 51,
      "outputs": [
        {
          "output_type": "stream",
          "name": "stdout",
          "text": [
            "[1 2 3]\n",
            "int64\n"
          ]
        }
      ]
    },
    {
      "cell_type": "code",
      "source": [
        "#Copy\n",
        "arr=np.array([1,2,3,4,5])\n",
        "x=arr.copy()\n",
        "arr[0]=42\n",
        "print(arr)\n",
        "print(x)"
      ],
      "metadata": {
        "colab": {
          "base_uri": "https://localhost:8080/"
        },
        "id": "8-XHyuAHAHCw",
        "outputId": "5d38b44c-f9c7-47ea-b6bb-f1b1cd0e6801"
      },
      "execution_count": 53,
      "outputs": [
        {
          "output_type": "stream",
          "name": "stdout",
          "text": [
            "[42  2  3  4  5]\n",
            "[1 2 3 4 5]\n"
          ]
        }
      ]
    },
    {
      "cell_type": "code",
      "source": [
        "#View\n",
        "arr=np.array([1,2,3,4,5])\n",
        "x=arr.view()\n",
        "arr[0]=42\n",
        "print(arr)\n",
        "print(x)\n",
        "x[0]=125\n",
        "print(arr) #change when made in view also reflects back in actual array"
      ],
      "metadata": {
        "colab": {
          "base_uri": "https://localhost:8080/"
        },
        "id": "AcwKPhO5A0DD",
        "outputId": "f85d8d08-5241-4e75-e126-54e0b10f4c91"
      },
      "execution_count": 54,
      "outputs": [
        {
          "output_type": "stream",
          "name": "stdout",
          "text": [
            "[42  2  3  4  5]\n",
            "[42  2  3  4  5]\n",
            "[125   2   3   4   5]\n"
          ]
        }
      ]
    },
    {
      "cell_type": "code",
      "source": [
        "# Reshaping Arrays(1d->3d)\n",
        "arr=np.array([1,2,3,4,5,6,7,8,9,10,11,12])\n",
        "newarr=arr.reshape(2,3,2)\n",
        "print(newarr)\n",
        "print(newarr.ndim)\n",
        "print(newarr.shape)"
      ],
      "metadata": {
        "colab": {
          "base_uri": "https://localhost:8080/"
        },
        "id": "4eZB1X8sBaB7",
        "outputId": "8fb61bdf-6a6e-43ec-fa27-c28a185fc6e5"
      },
      "execution_count": 62,
      "outputs": [
        {
          "output_type": "stream",
          "name": "stdout",
          "text": [
            "[[[ 1  2]\n",
            "  [ 3  4]\n",
            "  [ 5  6]]\n",
            "\n",
            " [[ 7  8]\n",
            "  [ 9 10]\n",
            "  [11 12]]]\n",
            "3\n",
            "(2, 3, 2)\n"
          ]
        }
      ]
    },
    {
      "cell_type": "code",
      "source": [
        "#Flattening the arrays(nd->1d)\n",
        "arr = np.array([[1,2,3], [4,5,6]])\n",
        "newarr = arr.reshape(-1)\n",
        "print(newarr)\n",
        "print(newarr.ndim)\n",
        "print(newarr.shape)"
      ],
      "metadata": {
        "colab": {
          "base_uri": "https://localhost:8080/"
        },
        "id": "BsE6EvgCCnxH",
        "outputId": "28d77a5a-3c9a-4430-d256-dde7b3b238b4"
      },
      "execution_count": 63,
      "outputs": [
        {
          "output_type": "stream",
          "name": "stdout",
          "text": [
            "[1 2 3 4 5 6]\n",
            "1\n",
            "(6,)\n"
          ]
        }
      ]
    },
    {
      "cell_type": "code",
      "source": [
        "#Iterating arrays 1d\n",
        "arr=np.array([1,2,3])\n",
        "for x in arr:\n",
        "  print(x)"
      ],
      "metadata": {
        "colab": {
          "base_uri": "https://localhost:8080/"
        },
        "id": "L1ZZBiJYD1sA",
        "outputId": "b353a476-cc8d-471b-d929-8489bb4f934c"
      },
      "execution_count": 64,
      "outputs": [
        {
          "output_type": "stream",
          "name": "stdout",
          "text": [
            "1\n",
            "2\n",
            "3\n"
          ]
        }
      ]
    },
    {
      "cell_type": "code",
      "source": [
        "#Iterating 2d\n",
        "arr=np.array([[1,2,3], [4,5,6]])\n",
        "for x in arr:\n",
        "  print(x)\n",
        "\n",
        "for x in arr:\n",
        "  for y in x:\n",
        "    print(y)"
      ],
      "metadata": {
        "colab": {
          "base_uri": "https://localhost:8080/"
        },
        "id": "WDxfaJkaEkCc",
        "outputId": "433f8564-7640-400c-f23a-cce8cd902dcc"
      },
      "execution_count": 65,
      "outputs": [
        {
          "output_type": "stream",
          "name": "stdout",
          "text": [
            "[1 2 3]\n",
            "[4 5 6]\n",
            "1\n",
            "2\n",
            "3\n",
            "4\n",
            "5\n",
            "6\n"
          ]
        }
      ]
    },
    {
      "cell_type": "code",
      "source": [
        "#Iterating 3d\n",
        "arr = np.array([[[1,2,3], [4,5,6]], [[7,8,9], [10,11,12]]])\n",
        "for x in arr:\n",
        "  print(x)\n",
        "\n",
        "for x in arr:\n",
        "  for y in x:\n",
        "    print(y)\n",
        "\n",
        "for x in arr:\n",
        "  for y in x:\n",
        "    for z in y:\n",
        "      print(z)"
      ],
      "metadata": {
        "colab": {
          "base_uri": "https://localhost:8080/"
        },
        "id": "tsDnQ-o_E5-B",
        "outputId": "abfbc6bf-7cc4-4dea-e410-7e702ae250ef"
      },
      "execution_count": 66,
      "outputs": [
        {
          "output_type": "stream",
          "name": "stdout",
          "text": [
            "[[1 2 3]\n",
            " [4 5 6]]\n",
            "[[ 7  8  9]\n",
            " [10 11 12]]\n",
            "[1 2 3]\n",
            "[4 5 6]\n",
            "[7 8 9]\n",
            "[10 11 12]\n",
            "1\n",
            "2\n",
            "3\n",
            "4\n",
            "5\n",
            "6\n",
            "7\n",
            "8\n",
            "9\n",
            "10\n",
            "11\n",
            "12\n"
          ]
        }
      ]
    },
    {
      "cell_type": "code",
      "source": [
        "#Joining 2 arrays\n",
        "arr1=np.array([1,2,3])\n",
        "arr2=np.array([4,5,6])\n",
        "arr=np.concatenate((arr1,arr2))\n",
        "print(arr)"
      ],
      "metadata": {
        "colab": {
          "base_uri": "https://localhost:8080/"
        },
        "id": "Yqj0nVRMFdHy",
        "outputId": "769e9959-a569-46d5-b733-48304adccfc4"
      },
      "execution_count": 68,
      "outputs": [
        {
          "output_type": "stream",
          "name": "stdout",
          "text": [
            "[1 2 3 4 5 6]\n"
          ]
        }
      ]
    },
    {
      "cell_type": "code",
      "source": [
        "#Joining 2d arrays, axis=1\n",
        "arr1=np.array([[1,2],[3,4]])\n",
        "arr2=np.array([[5,6],[7,8]])\n",
        "arr=np.concatenate((arr1,arr2),axis=1)\n",
        "print(arr)\n",
        "#Joining 2d arrays, axis=0\n",
        "arr1=np.array([[1,2],[3,4]])\n",
        "arr2=np.array([[5,6],[7,8]])\n",
        "arr=np.concatenate((arr1,arr2),axis=0)\n",
        "print(arr)"
      ],
      "metadata": {
        "colab": {
          "base_uri": "https://localhost:8080/"
        },
        "id": "G7dgVA6KGnaG",
        "outputId": "a30e5514-b0b2-401c-b367-58a60a7ebbb4"
      },
      "execution_count": 71,
      "outputs": [
        {
          "output_type": "stream",
          "name": "stdout",
          "text": [
            "[[1 2 5 6]\n",
            " [3 4 7 8]]\n",
            "[[1 2]\n",
            " [3 4]\n",
            " [5 6]\n",
            " [7 8]]\n"
          ]
        }
      ]
    },
    {
      "cell_type": "code",
      "source": [
        "#Splitting 1d into 3 parts\n",
        "arr=np.array([1,2,3,4,5,6,7])\n",
        "newarr=np.array_split(arr,3)\n",
        "print(newarr)\n",
        "print(newarr[0])\n",
        "print(newarr[1])\n",
        "print(newarr[2])"
      ],
      "metadata": {
        "colab": {
          "base_uri": "https://localhost:8080/"
        },
        "id": "5TeLlmLxHXNd",
        "outputId": "abcb822b-09c7-4bc3-a3de-d5796361d8fb"
      },
      "execution_count": 74,
      "outputs": [
        {
          "output_type": "stream",
          "name": "stdout",
          "text": [
            "[array([1, 2, 3]), array([4, 5]), array([6, 7])]\n",
            "[1 2 3]\n",
            "[4 5]\n",
            "[6 7]\n"
          ]
        }
      ]
    },
    {
      "cell_type": "code",
      "source": [
        "#Splitting 2-d\n",
        "arr=np.array([[1,2],[3,4],[5,6],[7,8],[9,10],[11,12]])\n",
        "newarr=np.array_split(arr,4)\n",
        "print(newarr)\n",
        "print(newarr[0])"
      ],
      "metadata": {
        "colab": {
          "base_uri": "https://localhost:8080/"
        },
        "id": "o87fzul7INE5",
        "outputId": "2503d112-47b7-4d16-9cee-eb7baebccc1c"
      },
      "execution_count": 77,
      "outputs": [
        {
          "output_type": "stream",
          "name": "stdout",
          "text": [
            "[array([[1, 2],\n",
            "       [3, 4]]), array([[5, 6],\n",
            "       [7, 8]]), array([[ 9, 10]]), array([[11, 12]])]\n",
            "[[1 2]\n",
            " [3 4]]\n"
          ]
        }
      ]
    },
    {
      "cell_type": "code",
      "source": [
        "#Sorting Arrays\n",
        "arr=np.array([3,2,0,1])\n",
        "print(np.sort(arr))\n",
        "\n",
        "arr1=np.array(['banana','cherry','apple'])\n",
        "print(np.sort(arr1))\n",
        "\n",
        "arr2=np.array([[3,2,4],[5,0,1]])\n",
        "print(np.sort(arr2))"
      ],
      "metadata": {
        "colab": {
          "base_uri": "https://localhost:8080/"
        },
        "id": "TyCUTN6ZJWsJ",
        "outputId": "46854064-e4aa-47c5-9255-b2ac5329434b"
      },
      "execution_count": 79,
      "outputs": [
        {
          "output_type": "stream",
          "name": "stdout",
          "text": [
            "[0 1 2 3]\n",
            "['apple' 'banana' 'cherry']\n",
            "[[2 3 4]\n",
            " [0 1 5]]\n"
          ]
        }
      ]
    },
    {
      "cell_type": "code",
      "source": [
        "from numpy import random"
      ],
      "metadata": {
        "id": "_2zi8FkZKNBY"
      },
      "execution_count": 80,
      "outputs": []
    },
    {
      "cell_type": "code",
      "source": [
        "x=random.randint(100)\n",
        "print(x)\n",
        "x1=random.rand()\n",
        "print(x1)\n",
        "x2=random.randint(100,size=(3,5))\n",
        "print(x2)\n",
        "x3=random.rand(3,5)\n",
        "print(x3)"
      ],
      "metadata": {
        "colab": {
          "base_uri": "https://localhost:8080/"
        },
        "id": "k4QP6WNaLAMU",
        "outputId": "8dff29a4-5281-4d0a-d298-123ee9fb441b"
      },
      "execution_count": 82,
      "outputs": [
        {
          "output_type": "stream",
          "name": "stdout",
          "text": [
            "34\n",
            "0.2567139238596231\n",
            "[[87 68 74  8 37]\n",
            " [30 83 88 23 66]\n",
            " [51 46 32 76 67]]\n",
            "[[0.52589366 0.0303731  0.80079213 0.68809165 0.83147191]\n",
            " [0.81494273 0.42370083 0.19368501 0.74095218 0.50578806]\n",
            " [0.99490509 0.07101594 0.49112153 0.89004967 0.45007878]]\n"
          ]
        }
      ]
    },
    {
      "cell_type": "code",
      "source": [
        "#Array Aritmetic\n",
        "a=np.array([[3,2,4],[5,0,1],[2,5,8]])\n",
        "b=np.array([[1,0,5],[2,3,7],[6,4,5]])\n",
        "print(a+2)\n",
        "print(a-1)\n",
        "print(a*5)\n",
        "print(a/2)"
      ],
      "metadata": {
        "colab": {
          "base_uri": "https://localhost:8080/"
        },
        "id": "mJwNFqY4Lg3d",
        "outputId": "b907a7d8-74a7-47f6-a410-25523d8c83bd"
      },
      "execution_count": 84,
      "outputs": [
        {
          "output_type": "stream",
          "name": "stdout",
          "text": [
            "[[ 5  4  6]\n",
            " [ 7  2  3]\n",
            " [ 4  7 10]]\n",
            "[[ 2  1  3]\n",
            " [ 4 -1  0]\n",
            " [ 1  4  7]]\n",
            "[[15 10 20]\n",
            " [25  0  5]\n",
            " [10 25 40]]\n",
            "[[1.5 1.  2. ]\n",
            " [2.5 0.  0.5]\n",
            " [1.  2.5 4. ]]\n"
          ]
        }
      ]
    },
    {
      "cell_type": "code",
      "source": [
        "c=a+b\n",
        "print(c)\n",
        "d=a-b\n",
        "print(d)\n",
        "e=a*b\n",
        "print(e)"
      ],
      "metadata": {
        "colab": {
          "base_uri": "https://localhost:8080/"
        },
        "id": "wXV2q-CLMjo_",
        "outputId": "75b10f1c-1567-4520-a1d6-835dcdadab43"
      },
      "execution_count": 85,
      "outputs": [
        {
          "output_type": "stream",
          "name": "stdout",
          "text": [
            "[[ 4  2  9]\n",
            " [ 7  3  8]\n",
            " [ 8  9 13]]\n",
            "[[ 2  2 -1]\n",
            " [ 3 -3 -6]\n",
            " [-4  1  3]]\n",
            "[[ 3  0 20]\n",
            " [10  0  7]\n",
            " [12 20 40]]\n"
          ]
        }
      ]
    },
    {
      "cell_type": "code",
      "source": [
        "#Transpose of Array\n",
        "a=np.array([[3,2,4],[5,0,1],[2,5,8]])\n",
        "print(a)\n",
        "ta=np.transpose(a)\n",
        "print(ta)"
      ],
      "metadata": {
        "colab": {
          "base_uri": "https://localhost:8080/"
        },
        "id": "4zpnxu6zMxmt",
        "outputId": "973efa44-74a6-46cf-eb0f-e8ffc373ef8f"
      },
      "execution_count": 86,
      "outputs": [
        {
          "output_type": "stream",
          "name": "stdout",
          "text": [
            "[[3 2 4]\n",
            " [5 0 1]\n",
            " [2 5 8]]\n",
            "[[3 5 2]\n",
            " [2 0 5]\n",
            " [4 1 8]]\n"
          ]
        }
      ]
    },
    {
      "cell_type": "code",
      "source": [
        "#Mean Median SD\n",
        "a= np.arange(5,50,2)\n",
        "print(a)\n",
        "print('Mean :',np.mean(a))\n",
        "print('Standard deviation :',np.std(a))\n",
        "print('Median :',np.median(a))"
      ],
      "metadata": {
        "colab": {
          "base_uri": "https://localhost:8080/"
        },
        "id": "2lUdLuGnNG6L",
        "outputId": "4f15e1db-c2c4-4609-ae6a-d27b85920bde"
      },
      "execution_count": 87,
      "outputs": [
        {
          "output_type": "stream",
          "name": "stdout",
          "text": [
            "[ 5  7  9 11 13 15 17 19 21 23 25 27 29 31 33 35 37 39 41 43 45 47 49]\n",
            "Mean : 27.0\n",
            "Standard deviation : 13.2664991614216\n",
            "Median : 27.0\n"
          ]
        }
      ]
    },
    {
      "cell_type": "code",
      "source": [
        "#Min along col\n",
        "print('Min:',np.min(a))\n",
        "#Max along row\n",
        "print('Max:',np.max(a))"
      ],
      "metadata": {
        "colab": {
          "base_uri": "https://localhost:8080/"
        },
        "id": "a59RNI5TNkcX",
        "outputId": "e1de7a9b-3cab-4566-c7bd-0101ee5a3a31"
      },
      "execution_count": 88,
      "outputs": [
        {
          "output_type": "stream",
          "name": "stdout",
          "text": [
            "Min: 5\n",
            "Max: 49\n"
          ]
        }
      ]
    },
    {
      "cell_type": "code",
      "source": [
        "#Min and Max with 2D\n",
        "a = np.array([[3,2,4], [10,0,1], [7,5,8]])\n",
        "print(a)\n",
        "print('Min :',np.min(a, axis=0))\n",
        "print('Max :',np.max(a, axis=1))"
      ],
      "metadata": {
        "colab": {
          "base_uri": "https://localhost:8080/"
        },
        "id": "mVIlKoYeNyUa",
        "outputId": "cdd3b222-4422-4ba5-ef13-4756b5ad1477"
      },
      "execution_count": 89,
      "outputs": [
        {
          "output_type": "stream",
          "name": "stdout",
          "text": [
            "[[ 3  2  4]\n",
            " [10  0  1]\n",
            " [ 7  5  8]]\n",
            "Min : [3 0 1]\n",
            "Max : [ 4 10  8]\n"
          ]
        }
      ]
    },
    {
      "cell_type": "code",
      "source": [
        "#Random Distribution\n",
        "x = random.choice([3,5,7,9], p=[0.1,0.3,0.6,0.0], size=(100))\n",
        "print(x)\n",
        "y = random.choice([3,5,7,9], p=[0.1,0.3,0.6,0.0], size=(3,5))\n",
        "print(y)\n",
        "# Normal Distribution\n",
        "x = random.normal(size=(2,3))\n",
        "print(x)\n",
        "y = random.normal(loc=1, scale=2, size=(2,3))\n",
        "print(y)"
      ],
      "metadata": {
        "colab": {
          "base_uri": "https://localhost:8080/"
        },
        "id": "Kll3OYF1OTxg",
        "outputId": "bb6402de-d91a-4997-d2b3-3f7897f08ad5"
      },
      "execution_count": 90,
      "outputs": [
        {
          "output_type": "stream",
          "name": "stdout",
          "text": [
            "[7 5 7 7 7 7 5 7 5 7 7 7 7 5 7 3 3 7 5 5 7 7 5 5 7 5 7 7 5 7 5 7 7 3 3 7 7\n",
            " 7 7 7 7 3 5 7 7 7 7 3 5 7 5 5 7 5 5 7 7 5 7 7 7 7 7 7 5 7 5 7 7 7 7 3 5 5\n",
            " 7 7 7 7 5 7 3 3 5 5 7 7 7 5 7 5 3 7 5 7 5 7 7 5 7 7]\n",
            "[[7 7 7 7 3]\n",
            " [5 5 7 7 7]\n",
            " [7 5 7 7 5]]\n",
            "[[-0.90684605 -0.53248531 -0.37231791]\n",
            " [-0.24739884 -0.28578601 -0.14827794]]\n",
            "[[ 2.49958777  1.91975701 -1.80775264]\n",
            " [-0.49166208 -0.89638219 -1.38929906]]\n"
          ]
        }
      ]
    }
  ]
}